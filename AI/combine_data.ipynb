{
 "cells": [
  {
   "cell_type": "code",
   "execution_count": 11,
   "id": "d8786232",
   "metadata": {},
   "outputs": [],
   "source": [
    "import pandas as pd\n",
    "\n",
    "df1 = pd.read_stata('./week1_before_after_combined.dta')\n",
    "df2 = pd.read_stata('./week_2_pre_post_combined.dta')\n",
    "df12 = pd.read_stata('./week1_week2_combined.dta')\n",
    "df_roster = pd.read_csv('./Roster_v2.csv')"
   ]
  },
  {
   "cell_type": "code",
   "execution_count": 14,
   "id": "df7ddf5b",
   "metadata": {},
   "outputs": [
    {
     "name": "stdout",
     "output_type": "stream",
     "text": [
      "Index(['name', 'id', 'section_group_wk1', 'lect_AI_wk1', 'AI_lecture_wk1',\n",
      "       'mismatch_wk1', 'submitted_post_wk1', 'post_score_wk1',\n",
      "       'overwhelmed_wk1', 'mistake_feel_wk1', 'amount_info_wk1',\n",
      "       'feel_difficult_wk1', 'engaged_wk1', 'effort_learn_wk1', 'enjoyed_wk1',\n",
      "       'interact_with_wk1', 'pacing_wk1', 'submitted_pre_wk1', 'pre_score_wk1',\n",
      "       'gain_wk1', 'norm_gain_wk1', 'form', 'engaged_score', 'enjoyed_score',\n",
      "       'effort_learn_score', 'feel_difficult_score'],\n",
      "      dtype='object')\n",
      "Index(['name', 'id', 'form', 'submitted_pre_wk2', 'pre_score_wk2',\n",
      "       'section_group_wk2', 'lect_AI_wk2', 'submitted_post_wk2',\n",
      "       'AI_lecture_wk2', 'mismatch_wk2', 'post_score_wk2', 'interact_with_wk2',\n",
      "       'pacing_wk2', 'feel_difficult_wk2', 'engaged_wk2', 'enjoyed_wk2',\n",
      "       'effort_learn_wk2', 'overwhelmed_wk2', 'mistake_feel_wk2',\n",
      "       'amount_info_wk2', 'gain_wk2', 'norm_gain_wk2', 'engaged_score_wk2',\n",
      "       'enjoyed_score_wk2', 'effort_learn_score_wk2',\n",
      "       'feel_difficult_score_wk2'],\n",
      "      dtype='object')\n",
      "Index(['name', 'id', 'wk', 'submitted_pre', 'pre_score', 'section_group',\n",
      "       'lect_AI', 'submitted_post', 'AI_lecture', 'mismatch', 'post_score',\n",
      "       'interact_with', 'pacing', 'feel_difficult', 'engaged', 'enjoyed',\n",
      "       'effort_learn', 'overwhelmed', 'mistake_feel', 'amount_info', 'gain',\n",
      "       'norm_gain', 'engaged_score', 'enjoyed_score', 'effort_learn_score',\n",
      "       'feel_difficult_score', '_merge', 'form'],\n",
      "      dtype='object')\n",
      "Index(['Notify', 'ID', 'Name', 'Email Address', 'Grade Basis',\n",
      "       'Program and Plan', 'Level', 'Gender Pronoun(s)', 'House', 'FERPA',\n",
      "       'Term Reporting', 'Name Recording', 'Timezone/Offset'],\n",
      "      dtype='object')\n"
     ]
    }
   ],
   "source": [
    "print(df1.columns)\n",
    "print(df2.columns)\n",
    "print(df12.columns)\n",
    "print(df_roster.columns)"
   ]
  },
  {
   "cell_type": "code",
   "execution_count": 19,
   "id": "0f652038",
   "metadata": {},
   "outputs": [
    {
     "name": "stdout",
     "output_type": "stream",
     "text": [
      "Index(['id', 'section_group_wk1', 'lect_AI_wk1', 'AI_lecture_wk1',\n",
      "       'mismatch_wk1', 'submitted_post_wk1', 'post_score_wk1',\n",
      "       'overwhelmed_wk1', 'mistake_feel_wk1', 'amount_info_wk1',\n",
      "       'feel_difficult_wk1', 'engaged_wk1', 'effort_learn_wk1', 'enjoyed_wk1',\n",
      "       'interact_with_wk1', 'pacing_wk1', 'submitted_pre_wk1', 'pre_score_wk1',\n",
      "       'gain_wk1', 'norm_gain_wk1', 'form_x', 'engaged_score', 'enjoyed_score',\n",
      "       'effort_learn_score', 'feel_difficult_score', 'form_y',\n",
      "       'submitted_pre_wk2', 'pre_score_wk2', 'section_group_wk2',\n",
      "       'lect_AI_wk2', 'submitted_post_wk2', 'AI_lecture_wk2', 'mismatch_wk2',\n",
      "       'post_score_wk2', 'interact_with_wk2', 'pacing_wk2',\n",
      "       'feel_difficult_wk2', 'engaged_wk2', 'enjoyed_wk2', 'effort_learn_wk2',\n",
      "       'overwhelmed_wk2', 'mistake_feel_wk2', 'amount_info_wk2', 'gain_wk2',\n",
      "       'norm_gain_wk2', 'engaged_score_wk2', 'enjoyed_score_wk2',\n",
      "       'effort_learn_score_wk2', 'feel_difficult_score_wk2'],\n",
      "      dtype='object')\n"
     ]
    }
   ],
   "source": [
    "df_combined = pd.merge(df1.drop(labels='name',axis=1),df2.drop(labels='name',axis=1),on='id')\n",
    "print(df_combined.columns)\n",
    "#['id', 'section_group_wk1', 'pre_score_wk1', 'pre_time_wk1', 'post_score_wk1', 'post_time_wk1','overwhelmed_wk1', \n",
    "# 'mistake_feel_wk1', 'amount_info_wk1', 'feel_difficult_wk1', 'engaged_wk1', 'effort_learn_wk1', 'enjoyed_wk1',\n",
    "# 'interact_with_wk1', 'pacing_wk1','section_group_wk2', 'pre_score_wk2', 'pre_time_wk2', 'post_score_wk2',\n",
    "# 'post_time_wk2', 'overwhelmed_wk1', 'mistake_feel_wk1', 'amount_info_wk1', 'feel_difficult_wk1', 'engaged_wk1',\n",
    "# 'effort_learn_wk1', 'enjoyed_wk1', 'interact_with_wk1', 'pacing_wk1', 'Program and Plan', 'Level', 'Gender Pronoun(s)']"
   ]
  },
  {
   "cell_type": "code",
   "execution_count": null,
   "id": "1c4fcb0a",
   "metadata": {},
   "outputs": [],
   "source": [
    "#df_combined.to_stata('combined.dta')"
   ]
  }
 ],
 "metadata": {
  "kernelspec": {
   "display_name": "Python 3 (ipykernel)",
   "language": "python",
   "name": "python3"
  },
  "language_info": {
   "codemirror_mode": {
    "name": "ipython",
    "version": 3
   },
   "file_extension": ".py",
   "mimetype": "text/x-python",
   "name": "python",
   "nbconvert_exporter": "python",
   "pygments_lexer": "ipython3",
   "version": "3.10.9"
  }
 },
 "nbformat": 4,
 "nbformat_minor": 5
}
