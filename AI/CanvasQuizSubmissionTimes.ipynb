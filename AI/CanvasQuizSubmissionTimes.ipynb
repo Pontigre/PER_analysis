{
 "cells": [
  {
   "cell_type": "code",
   "execution_count": 69,
   "id": "00829ac8",
   "metadata": {},
   "outputs": [
    {
     "name": "stdout",
     "output_type": "stream",
     "text": [
      "done\n"
     ]
    }
   ],
   "source": [
    "import requests\n",
    "import csv\n",
    "import json\n",
    "import pandas as pd\n",
    "\n",
    "# Set your Canvas API endpoint and access token\n",
    "CANVAS_API = \"https://canvas.harvard.edu/api/v1\"\n",
    "ACCESS_TOKEN = \"1875~NonnC89XfajtYWMpQMsmy855CWOLxrrXOkkefJWeezxOQIVpBmuch9c8lzHyPkdS\"\n",
    "COURSE_ID = \"123462\"\n",
    "QUIZ_ID = \"350547\"\n",
    "csv_filename = \"quiz_submissions_pre8_B.csv\"\n",
    "\n",
    "col_list=['user_id','started_at','finished_at']\n",
    "\n",
    "# Make API request\n",
    "url = f\"{CANVAS_API}/courses/{COURSE_ID}/quizzes/{QUIZ_ID}/submissions\"\n",
    "headers = {\"Authorization\": f\"Bearer {ACCESS_TOKEN}\"}\n",
    "r = requests.get(url, headers=headers)\n",
    "\n",
    "data = []\n",
    "# Check if the request was successful (status code 200)\n",
    "if r.status_code == 200:\n",
    "    # Parse JSON response\n",
    "    raw = r.json()\n",
    "    for question in raw['quiz_submissions']:\n",
    "        data.append(question)\n",
    "    while r.links['current']['url'] != r.links['last']['url']:\n",
    "        r = requests.get(r.links['next']['url'], headers=headers)\n",
    "        raw = r.json()\n",
    "        for question in raw['quiz_submissions']:\n",
    "            data.append(question)\n",
    "    df = pd.DataFrame(data)\n",
    "    df=df[['user_id','time_spent']]\n",
    "\n",
    "    # Save DataFrame to CSV\n",
    "    df.to_csv(csv_filename, index=False, encoding=\"utf-8\")\n",
    "    print(\"done\")\n",
    "else:\n",
    "    print(f\"Error: {response.status_code} - {response.text}\")"
   ]
  },
  {
   "cell_type": "code",
   "execution_count": null,
   "id": "ce3092fb",
   "metadata": {},
   "outputs": [],
   "source": []
  }
 ],
 "metadata": {
  "kernelspec": {
   "display_name": "Python 3 (ipykernel)",
   "language": "python",
   "name": "python3"
  },
  "language_info": {
   "codemirror_mode": {
    "name": "ipython",
    "version": 3
   },
   "file_extension": ".py",
   "mimetype": "text/x-python",
   "name": "python",
   "nbconvert_exporter": "python",
   "pygments_lexer": "ipython3",
   "version": "3.10.9"
  }
 },
 "nbformat": 4,
 "nbformat_minor": 5
}
